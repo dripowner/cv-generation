{
 "cells": [
  {
   "cell_type": "code",
   "execution_count": 1,
   "metadata": {},
   "outputs": [
    {
     "name": "stderr",
     "output_type": "stream",
     "text": [
      "e:\\cv-generation\\train_venv\\Lib\\site-packages\\tqdm\\auto.py:21: TqdmWarning: IProgress not found. Please update jupyter and ipywidgets. See https://ipywidgets.readthedocs.io/en/stable/user_install.html\n",
      "  from .autonotebook import tqdm as notebook_tqdm\n"
     ]
    }
   ],
   "source": [
    "import pandas as pd\n",
    "from transformers import AutoTokenizer, AutoModelForSeq2SeqLM\n",
    "from tqdm import tqdm"
   ]
  },
  {
   "cell_type": "code",
   "execution_count": 2,
   "metadata": {},
   "outputs": [],
   "source": [
    "df = pd.read_csv(\"dpo_requests.csv\")\n",
    "df.drop(columns=\"Unnamed: 0\", axis=1, inplace=True)"
   ]
  },
  {
   "cell_type": "code",
   "execution_count": 3,
   "metadata": {},
   "outputs": [],
   "source": [
    "checkpoint = \"../Train/models/full-sft/full-sft\""
   ]
  },
  {
   "cell_type": "code",
   "execution_count": 4,
   "metadata": {},
   "outputs": [],
   "source": [
    "tokenizer = AutoTokenizer.from_pretrained(checkpoint)\n",
    "model = AutoModelForSeq2SeqLM.from_pretrained(checkpoint).to(\"cuda\")"
   ]
  },
  {
   "cell_type": "code",
   "execution_count": 5,
   "metadata": {},
   "outputs": [],
   "source": [
    "def predict(cv: str, temp: float, is_temp: bool=False):\n",
    "    input_ids = tokenizer(\n",
    "        [cv],\n",
    "        max_length=600,\n",
    "        add_special_tokens=True,\n",
    "        padding=\"max_length\",\n",
    "        truncation=True,\n",
    "        return_tensors=\"pt\"\n",
    "    )[\"input_ids\"].to(\"cuda\")\n",
    "\n",
    "    if is_temp:\n",
    "        output_ids = model.generate(\n",
    "            input_ids=input_ids,\n",
    "            no_repeat_ngram_size=4,\n",
    "            temperature=temp,\n",
    "            do_sample=True\n",
    "        )[0]\n",
    "    else:\n",
    "        output_ids = model.generate(\n",
    "            input_ids=input_ids,\n",
    "            no_repeat_ngram_size=4\n",
    "        )[0]\n",
    "\n",
    "    summary = tokenizer.decode(output_ids, skip_special_tokens=True)\n",
    "\n",
    "    return summary"
   ]
  },
  {
   "cell_type": "code",
   "execution_count": 6,
   "metadata": {},
   "outputs": [
    {
     "data": {
      "text/plain": [
       "'Пол: женщина. Возраст: 14 лет. Желаемая зарплата: от 1500.0 рублей. Желаемая должность: Промоутер. Место проживания: Москва. Водительское удостоверение: отсутствует. Умения/навыки: раздача листовок, расклейка листовок. Опыт работы: без опыта работы'"
      ]
     },
     "execution_count": 6,
     "metadata": {},
     "output_type": "execute_result"
    }
   ],
   "source": [
    "df[\"source\"][3]"
   ]
  },
  {
   "cell_type": "code",
   "execution_count": 7,
   "metadata": {},
   "outputs": [
    {
     "data": {
      "text/plain": [
       "'Я с радостью помогу вам сгенерировать поле «О себе» для вашего резюме. У меня получилось придумать такой текст: «Я молодой и энергичный промоутер с четырьмя с половиной годами опыта работы. Я отлично разбираюсь в организации работы, раздаче листовок и расклейке листовок. Меня мотивирует возможность работать в команде, и я готов к новым вызовам. Я живу в Москве и имею водительское удостоверение. Я мотивирован на работу и готов принять вызов стать частью вашей команды».'"
      ]
     },
     "execution_count": 7,
     "metadata": {},
     "output_type": "execute_result"
    }
   ],
   "source": [
    "predict(df[\"source\"][3], 2.3, is_temp=True)"
   ]
  },
  {
   "cell_type": "code",
   "execution_count": 8,
   "metadata": {},
   "outputs": [
    {
     "name": "stderr",
     "output_type": "stream",
     "text": [
      "1000it [3:18:44, 11.92s/it]\n"
     ]
    }
   ],
   "source": [
    "about_19 = []\n",
    "about_23 = []\n",
    "about_26 = []\n",
    "about = []\n",
    "for id, row in tqdm(df[:1000].iterrows()):\n",
    "    about.append(predict(row[\"source\"], 1.0, is_temp=False))\n",
    "    about_19.append(predict(row[\"source\"], 1.9, True))\n",
    "    about_23.append(predict(row[\"source\"], 2.3, True))\n",
    "    about_26.append(predict(row[\"source\"], 2.6, True))"
   ]
  },
  {
   "cell_type": "code",
   "execution_count": 9,
   "metadata": {},
   "outputs": [],
   "source": [
    "df_gen = pd.DataFrame(data={\"full_sft_10epochs_no_temp\": about,\n",
    "                            \"full_sft_10epochs_temp_19\": about_19,\n",
    "                            \"full_sft_10epochs_temp_23\": about_23,\n",
    "                            \"full_sft_10epochs_temp_26\": about_26\n",
    "                            })"
   ]
  },
  {
   "cell_type": "code",
   "execution_count": 10,
   "metadata": {},
   "outputs": [],
   "source": [
    "df_gen.to_csv(\"full_sft_10epochs_from_0_to_999_with_temps.csv\")"
   ]
  }
 ],
 "metadata": {
  "kernelspec": {
   "display_name": "train_venv",
   "language": "python",
   "name": "python3"
  },
  "language_info": {
   "codemirror_mode": {
    "name": "ipython",
    "version": 3
   },
   "file_extension": ".py",
   "mimetype": "text/x-python",
   "name": "python",
   "nbconvert_exporter": "python",
   "pygments_lexer": "ipython3",
   "version": "3.11.6"
  }
 },
 "nbformat": 4,
 "nbformat_minor": 2
}
