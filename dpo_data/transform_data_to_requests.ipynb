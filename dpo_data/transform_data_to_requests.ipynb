{
 "cells": [
  {
   "cell_type": "code",
   "execution_count": 1,
   "metadata": {},
   "outputs": [],
   "source": [
    "import pandas as pd"
   ]
  },
  {
   "cell_type": "code",
   "execution_count": 2,
   "metadata": {},
   "outputs": [],
   "source": [
    "df = pd.read_csv(\"resumes_filtered.csv\")"
   ]
  },
  {
   "cell_type": "code",
   "execution_count": 3,
   "metadata": {},
   "outputs": [],
   "source": [
    "df.drop(columns=[\"Unnamed: 0\"], axis=1, inplace=True)"
   ]
  },
  {
   "cell_type": "code",
   "execution_count": null,
   "metadata": {},
   "outputs": [],
   "source": [
    "df.head()"
   ]
  },
  {
   "cell_type": "code",
   "execution_count": 5,
   "metadata": {},
   "outputs": [
    {
     "data": {
      "text/plain": [
       "datetime.date(2024, 6, 18)"
      ]
     },
     "execution_count": 5,
     "metadata": {},
     "output_type": "execute_result"
    }
   ],
   "source": [
    "pd.to_datetime('today').normalize().date()"
   ]
  },
  {
   "cell_type": "code",
   "execution_count": 6,
   "metadata": {},
   "outputs": [
    {
     "data": {
      "text/plain": [
       "datetime.date(1985, 7, 30)"
      ]
     },
     "execution_count": 6,
     "metadata": {},
     "output_type": "execute_result"
    }
   ],
   "source": [
    "pd.to_datetime(df[\"birth_date\"][0]).date()"
   ]
  },
  {
   "cell_type": "code",
   "execution_count": 7,
   "metadata": {},
   "outputs": [],
   "source": [
    "df[\"age\"] = (pd.to_datetime('today').normalize() - pd.to_datetime(df[\"birth_date\"])).dt.days // 365"
   ]
  },
  {
   "cell_type": "code",
   "execution_count": 8,
   "metadata": {},
   "outputs": [
    {
     "name": "stdout",
     "output_type": "stream",
     "text": [
      "<class 'pandas.core.frame.DataFrame'>\n",
      "RangeIndex: 19820 entries, 0 to 19819\n",
      "Data columns (total 17 columns):\n",
      " #   Column             Non-Null Count  Dtype  \n",
      "---  ------             --------------  -----  \n",
      " 0   resume_id          19820 non-null  int64  \n",
      " 1   contact_email      19820 non-null  object \n",
      " 2   is_male            19550 non-null  object \n",
      " 3   birth_date         19801 non-null  object \n",
      " 4   salary_from        14238 non-null  float64\n",
      " 5   city_name          19820 non-null  object \n",
      " 6   is_married         7493 non-null   object \n",
      " 7   driving_license    4080 non-null   object \n",
      " 8   comment            5220 non-null   object \n",
      " 9   comment2           7413 non-null   object \n",
      " 10  organization_name  10595 non-null  object \n",
      " 11  working_date_from  11091 non-null  object \n",
      " 12  working_date_to    8240 non-null   object \n",
      " 13  position           11052 non-null  object \n",
      " 14  skills             16930 non-null  object \n",
      " 15  wanted_position    19820 non-null  object \n",
      " 16  age                19801 non-null  float64\n",
      "dtypes: float64(2), int64(1), object(14)\n",
      "memory usage: 2.6+ MB\n"
     ]
    }
   ],
   "source": [
    "df.info()"
   ]
  },
  {
   "cell_type": "code",
   "execution_count": 9,
   "metadata": {},
   "outputs": [
    {
     "name": "stderr",
     "output_type": "stream",
     "text": [
      "C:\\Users\\yxtag\\AppData\\Local\\Temp\\ipykernel_11068\\3327791111.py:3: FutureWarning: Setting an item of incompatible dtype is deprecated and will raise in a future error of pandas. Value 'не указано' has dtype incompatible with float64, please explicitly cast to a compatible dtype first.\n",
      "  df[\"age\"].fillna(\"не указано\", inplace=True)\n"
     ]
    }
   ],
   "source": [
    "df[\"is_male\"].fillna(\"не указано\", inplace=True)\n",
    "df[\"birth_date\"].fillna(\"не указано\", inplace=True)\n",
    "df[\"age\"].fillna(\"не указано\", inplace=True)\n",
    "df[\"salary_from\"].fillna(0.0, inplace=True)\n",
    "df[\"is_married\"].fillna(\"не указано\", inplace=True)\n",
    "df[\"driving_license\"].fillna(\"отсутствует\", inplace=True)\n",
    "df.drop(columns=[\"comment\", \"comment2\"], axis=1, inplace=True)\n",
    "df[\"organization_name\"].fillna(\"не указано\", inplace=True)\n",
    "df[\"working_date_from\"].fillna(\"не указано\", inplace=True)\n",
    "df[\"working_date_to\"].fillna(\"не указано\", inplace=True)\n",
    "df[\"position\"].fillna(\"не указано\", inplace=True)\n",
    "df[\"skills\"].fillna(\"не указано\", inplace=True)\n"
   ]
  },
  {
   "cell_type": "code",
   "execution_count": 10,
   "metadata": {},
   "outputs": [
    {
     "data": {
      "text/plain": [
       "array([True, False, 'не указано'], dtype=object)"
      ]
     },
     "execution_count": 10,
     "metadata": {},
     "output_type": "execute_result"
    }
   ],
   "source": [
    "df[\"is_male\"].unique()"
   ]
  },
  {
   "cell_type": "code",
   "execution_count": null,
   "metadata": {},
   "outputs": [],
   "source": [
    "df[\"is_male\"].replace({True: \"мужчина\", False: \"женщина\"}, inplace=True)\n",
    "df.head()"
   ]
  },
  {
   "cell_type": "code",
   "execution_count": 12,
   "metadata": {},
   "outputs": [],
   "source": [
    "df = df.drop_duplicates()"
   ]
  },
  {
   "cell_type": "code",
   "execution_count": 13,
   "metadata": {},
   "outputs": [],
   "source": [
    "df[\"skills\"] = df[\"skills\"].apply(lambda x: x.replace('\"', \"\").replace(\"[\", \"\").replace(\"]\", \"\"))"
   ]
  },
  {
   "cell_type": "code",
   "execution_count": 14,
   "metadata": {},
   "outputs": [],
   "source": [
    "df[\"driving_license\"] = df[\"driving_license\"].apply(lambda x: x.replace('{', \"\").replace(\"}\", \"\"))"
   ]
  },
  {
   "cell_type": "code",
   "execution_count": 15,
   "metadata": {},
   "outputs": [],
   "source": [
    "df.drop(columns=[\"is_married\"], axis=1, inplace=True)"
   ]
  },
  {
   "cell_type": "code",
   "execution_count": 16,
   "metadata": {},
   "outputs": [
    {
     "name": "stdout",
     "output_type": "stream",
     "text": [
      "<class 'pandas.core.frame.DataFrame'>\n",
      "Index: 5765 entries, 0 to 19819\n",
      "Data columns (total 14 columns):\n",
      " #   Column             Non-Null Count  Dtype  \n",
      "---  ------             --------------  -----  \n",
      " 0   resume_id          5765 non-null   int64  \n",
      " 1   contact_email      5765 non-null   object \n",
      " 2   is_male            5765 non-null   object \n",
      " 3   birth_date         5765 non-null   object \n",
      " 4   salary_from        5765 non-null   float64\n",
      " 5   city_name          5765 non-null   object \n",
      " 6   driving_license    5765 non-null   object \n",
      " 7   organization_name  5765 non-null   object \n",
      " 8   working_date_from  5765 non-null   object \n",
      " 9   working_date_to    5765 non-null   object \n",
      " 10  position           5765 non-null   object \n",
      " 11  skills             5765 non-null   object \n",
      " 12  wanted_position    5765 non-null   object \n",
      " 13  age                5765 non-null   object \n",
      "dtypes: float64(1), int64(1), object(12)\n",
      "memory usage: 675.6+ KB\n"
     ]
    }
   ],
   "source": [
    "df.info()"
   ]
  },
  {
   "cell_type": "code",
   "execution_count": null,
   "metadata": {},
   "outputs": [],
   "source": [
    "df.head(20)"
   ]
  },
  {
   "cell_type": "code",
   "execution_count": 18,
   "metadata": {},
   "outputs": [
    {
     "data": {
      "text/plain": [
       "5000"
      ]
     },
     "execution_count": 18,
     "metadata": {},
     "output_type": "execute_result"
    }
   ],
   "source": [
    "df[\"resume_id\"].nunique()"
   ]
  },
  {
   "cell_type": "code",
   "execution_count": 19,
   "metadata": {},
   "outputs": [],
   "source": [
    "source = []\n",
    "last_tmp_text = \"\"\n",
    "for res_id in df[\"resume_id\"].unique():\n",
    "\n",
    "    # source\n",
    "    source_text = \"\"\n",
    "\n",
    "    # work expirience features\n",
    "    work_exp = \" Опыт работы:\"\n",
    "\n",
    "    org_name = \"\"\n",
    "    date_s = \"\"\n",
    "    date_f = \"\"\n",
    "    pos = \"\"\n",
    "\n",
    "    # general features\n",
    "    gen_feat = \"\"\n",
    "\n",
    "    sex = \"\"\n",
    "    salary = \"\"\n",
    "    bd = \"\"\n",
    "    city = \"\"\n",
    "    driving_license = \"\"\n",
    "    skills = \"\"\n",
    "    age=\"\"\n",
    "    \n",
    "    last_view_vacs = \"\"\n",
    "    wanted_pos = \"\"\n",
    "    \n",
    "    # get actual rows and sort\n",
    "    rows = df[df[\"resume_id\"] == res_id]\n",
    "    rows = rows.sort_values(\"working_date_from\")\n",
    "\n",
    "    # work exp counter\n",
    "    rows_count = 1\n",
    "\n",
    "    for index, row in rows.iterrows():\n",
    "\n",
    "        # work exp temp text\n",
    "        tmp_text = \"\"\n",
    "        \n",
    "        # get general features\n",
    "        if not any([sex, salary, bd, city, driving_license, skills]):\n",
    "            sex = row[\"is_male\"]\n",
    "            salary = row[\"salary_from\"]\n",
    "            bd = row[\"birth_date\"]\n",
    "            city = row[\"city_name\"]\n",
    "            driving_license = row[\"driving_license\"]\n",
    "            skills = row[\"skills\"]\n",
    "        \n",
    "        if not wanted_pos: wanted_pos = row[\"wanted_position\"]\n",
    "        if not age: age = row[\"age\"]\n",
    "        \n",
    "        # get one place work expirience\n",
    "        org_name = row[\"organization_name\"]\n",
    "        date_s = row[\"working_date_from\"]\n",
    "        date_f = row[\"working_date_to\"]\n",
    "        pos = row[\"position\"]\n",
    "\n",
    "        # create one place work exp text\n",
    "        if pos == \"не указано\" and org_name == \"не указано\" and \\\n",
    "            date_s == \"не указано\" and date_f == \"не указано\":\n",
    "            tmp_text = \" без опыта работы\"\n",
    "            work_exp += tmp_text\n",
    "            break\n",
    "        else:\n",
    "            tmp_text = \" \" + str(rows_count) + \".\" + \" Место работы: \" + str(org_name) + \". Дата начала работы: \" + str(date_s) + \\\n",
    "                \". Дата окончания работы: \" + str(date_f) + \". Должность: \" + str(pos) + \".\"\n",
    "        \n",
    "            if last_tmp_text != tmp_text[3:]:\n",
    "                work_exp += tmp_text\n",
    "\n",
    "            last_tmp_text = tmp_text[3:]\n",
    "\n",
    "            rows_count += 1\n",
    "    if type(age) == float:\n",
    "        age = int(age)\n",
    "    gen_feat_text = \"Пол: \" + str(sex) + \\\n",
    "        \". Возраст: \" + str(age) + \" лет\"\\\n",
    "        \". Желаемая зарплата: от \" + str(salary) + \" рублей\" + \\\n",
    "        \". Желаемая должность: \" + str(wanted_pos) + \\\n",
    "        \". Место проживания: \" + str(city) + \\\n",
    "        \". Водительское удостоверение: \" + str(driving_license) + \\\n",
    "        \". Умения/навыки: \" + str(skills) + \".\"\n",
    "    \n",
    "    source_text = gen_feat_text + work_exp\n",
    "    \n",
    "    source.append(source_text)"
   ]
  },
  {
   "cell_type": "code",
   "execution_count": null,
   "metadata": {},
   "outputs": [],
   "source": [
    "source"
   ]
  },
  {
   "cell_type": "code",
   "execution_count": 21,
   "metadata": {},
   "outputs": [],
   "source": [
    "df_src = pd.DataFrame(data={\"source\": source})"
   ]
  },
  {
   "cell_type": "code",
   "execution_count": null,
   "metadata": {},
   "outputs": [],
   "source": [
    "df_src[\"source\"] = df_src[\"source\"].replace('\"', \"\")"
   ]
  },
  {
   "cell_type": "code",
   "execution_count": 23,
   "metadata": {},
   "outputs": [],
   "source": [
    "df_src.to_csv(\"dpo_requests.csv\")"
   ]
  }
 ],
 "metadata": {
  "kernelspec": {
   "display_name": "venv",
   "language": "python",
   "name": "python3"
  },
  "language_info": {
   "codemirror_mode": {
    "name": "ipython",
    "version": 3
   },
   "file_extension": ".py",
   "mimetype": "text/x-python",
   "name": "python",
   "nbconvert_exporter": "python",
   "pygments_lexer": "ipython3",
   "version": "3.11.6"
  }
 },
 "nbformat": 4,
 "nbformat_minor": 2
}
