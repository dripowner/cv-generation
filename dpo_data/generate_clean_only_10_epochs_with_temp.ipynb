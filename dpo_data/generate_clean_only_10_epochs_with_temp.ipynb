{
 "cells": [
  {
   "cell_type": "code",
   "execution_count": 79,
   "metadata": {},
   "outputs": [],
   "source": [
    "import pandas as pd\n",
    "from transformers import AutoTokenizer, AutoModelForSeq2SeqLM\n",
    "from tqdm import tqdm"
   ]
  },
  {
   "cell_type": "code",
   "execution_count": 80,
   "metadata": {},
   "outputs": [],
   "source": [
    "df = pd.read_csv(\"dpo_requests.csv\")\n",
    "df.drop(columns=\"Unnamed: 0\", axis=1, inplace=True)"
   ]
  },
  {
   "cell_type": "code",
   "execution_count": 81,
   "metadata": {},
   "outputs": [],
   "source": [
    "checkpoint = \"../Train/models/sft_clean_only_2\""
   ]
  },
  {
   "cell_type": "code",
   "execution_count": 82,
   "metadata": {},
   "outputs": [],
   "source": [
    "tokenizer = AutoTokenizer.from_pretrained(checkpoint)\n",
    "model = AutoModelForSeq2SeqLM.from_pretrained(checkpoint).to(\"cuda\")"
   ]
  },
  {
   "cell_type": "code",
   "execution_count": 83,
   "metadata": {},
   "outputs": [],
   "source": [
    "def predict(cv: str, temp: float, is_temp: bool=False):\n",
    "    input_ids = tokenizer(\n",
    "        [cv],\n",
    "        max_length=600,\n",
    "        add_special_tokens=True,\n",
    "        padding=\"max_length\",\n",
    "        truncation=True,\n",
    "        return_tensors=\"pt\"\n",
    "    )[\"input_ids\"].to(\"cuda\")\n",
    "\n",
    "    if is_temp:\n",
    "        output_ids = model.generate(\n",
    "            input_ids=input_ids,\n",
    "            no_repeat_ngram_size=4,\n",
    "            temperature=temp,\n",
    "            do_sample=True\n",
    "        )[0]\n",
    "    else:\n",
    "        output_ids = model.generate(\n",
    "            input_ids=input_ids,\n",
    "            no_repeat_ngram_size=4\n",
    "        )[0]\n",
    "\n",
    "    summary = tokenizer.decode(output_ids, skip_special_tokens=True)\n",
    "\n",
    "    return summary"
   ]
  },
  {
   "cell_type": "code",
   "execution_count": 84,
   "metadata": {},
   "outputs": [],
   "source": [
    "# df[\"source\"][2]"
   ]
  },
  {
   "cell_type": "code",
   "execution_count": 85,
   "metadata": {},
   "outputs": [],
   "source": [
    "# predict(df[\"source\"][2], 0.7)"
   ]
  },
  {
   "cell_type": "code",
   "execution_count": 86,
   "metadata": {},
   "outputs": [],
   "source": [
    "# predict(df[\"source\"][2], 1.4)"
   ]
  },
  {
   "cell_type": "code",
   "execution_count": 87,
   "metadata": {},
   "outputs": [],
   "source": [
    "# predict(df[\"source\"][2], 1.9)"
   ]
  },
  {
   "cell_type": "code",
   "execution_count": 88,
   "metadata": {},
   "outputs": [
    {
     "name": "stderr",
     "output_type": "stream",
     "text": [
      "1000it [2:07:59,  7.68s/it]\n"
     ]
    }
   ],
   "source": [
    "about_07 = []\n",
    "about_14 = []\n",
    "about_19 = []\n",
    "about = []\n",
    "for id, row in tqdm(df[:1000].iterrows()):\n",
    "    about.append(predict(row[\"source\"], 1.0, is_temp=False))\n",
    "    about_07.append(predict(row[\"source\"], 0.7, True))\n",
    "    about_14.append(predict(row[\"source\"], 1.4, True))\n",
    "    about_19.append(predict(row[\"source\"], 1.9, True))\n",
    "    "
   ]
  },
  {
   "cell_type": "code",
   "execution_count": 89,
   "metadata": {},
   "outputs": [],
   "source": [
    "df_gen = pd.DataFrame(data={\"sft_clean_only_10epochs_no_temp\": about,\n",
    "                            \"sft_clean_only_10epochs_temp_07\": about_07,\n",
    "                            \"sft_clean_only_10epochs_temp_14\": about_14,\n",
    "                            \"sft_clean_only_10epochs_temp_19\": about_19\n",
    "                            })"
   ]
  },
  {
   "cell_type": "code",
   "execution_count": 90,
   "metadata": {},
   "outputs": [],
   "source": [
    "df_gen.to_csv(\"sft_clean_only_10epochs_from_0_to_999_with_temps.csv\")"
   ]
  }
 ],
 "metadata": {
  "kernelspec": {
   "display_name": "train_venv",
   "language": "python",
   "name": "python3"
  },
  "language_info": {
   "codemirror_mode": {
    "name": "ipython",
    "version": 3
   },
   "file_extension": ".py",
   "mimetype": "text/x-python",
   "name": "python",
   "nbconvert_exporter": "python",
   "pygments_lexer": "ipython3",
   "version": "3.11.6"
  }
 },
 "nbformat": 4,
 "nbformat_minor": 2
}
