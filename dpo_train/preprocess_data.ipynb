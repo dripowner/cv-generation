{
 "cells": [
  {
   "cell_type": "code",
   "execution_count": 1,
   "metadata": {},
   "outputs": [],
   "source": [
    "import json\n",
    "import itertools\n",
    "import random\n",
    "import pandas as pd"
   ]
  },
  {
   "cell_type": "code",
   "execution_count": 99,
   "metadata": {},
   "outputs": [],
   "source": [
    "def clean(text: str):\n",
    "    clean_text = text.replace(\"Я с радостью помогу вам сгенерировать поле «О себе» для вашего резюме. У меня получилось придумать такой текст: \", \"\")\n",
    "    clean_text = clean_text.replace(\"Я с радостью помогу вам сгенерировать поле «О себе» для вашего резюме. Учтите, что в этом поле нужно описать себя так, чтобы работодатель захотел вас нанять. Вот что у меня получилось: \", \"\")\n",
    "    if clean_text[0] == '\"':\n",
    "        clean_text = clean_text[1:]\n",
    "    if clean_text[-1] == '\"':\n",
    "        clean_text = clean_text[:-2]\n",
    "    return clean_text"
   ]
  },
  {
   "cell_type": "code",
   "execution_count": 100,
   "metadata": {},
   "outputs": [],
   "source": [
    "def fix_prompt(text: str):\n",
    "    fixed_text = text.replace(\"Водительское удостоверение: отсутствует\", \"Водительское удостоверение: не указано\")\n",
    "    return fixed_text"
   ]
  },
  {
   "cell_type": "code",
   "execution_count": 101,
   "metadata": {},
   "outputs": [],
   "source": [
    "def all_possible_combs(good: list, bad: list):\n",
    "    return list(itertools.product(good, bad))"
   ]
  },
  {
   "cell_type": "code",
   "execution_count": 102,
   "metadata": {},
   "outputs": [],
   "source": [
    "def random_combs(good: list, bad: list):\n",
    "    good_set = set(good)\n",
    "    bad_set = set(bad)\n",
    "    combs = []\n",
    "    while good_set and bad_set:\n",
    "        elem_good = random.choice(tuple(good_set))\n",
    "        elem_bad = random.choice(tuple(bad_set))\n",
    "        combs.append((elem_good, elem_bad))\n",
    "        good_set.remove(elem_good)\n",
    "        bad_set.remove(elem_bad)\n",
    "    return combs"
   ]
  },
  {
   "cell_type": "markdown",
   "metadata": {},
   "source": [
    "### preprocess dataset"
   ]
  },
  {
   "cell_type": "code",
   "execution_count": 103,
   "metadata": {},
   "outputs": [],
   "source": [
    "with open(\"./data/example_dpo_data.json\", \"r\", encoding=\"utf-8\") as file:\n",
    "    data = json.load(file)"
   ]
  },
  {
   "cell_type": "code",
   "execution_count": 104,
   "metadata": {},
   "outputs": [],
   "source": [
    "res = {}\n",
    "for item in data:\n",
    "    prompt = item[\"data\"][\"prompt\"]\n",
    "    res[prompt] = {}\n",
    "    res[prompt][\"good\"] = []\n",
    "    res[prompt][\"bad\"] = []\n",
    "\n",
    "    good_ids = item[\"annotations\"][0]['result'][0][\"value\"][\"ranker\"][\"relevant_results\"]\n",
    "    bad_ids = item[\"annotations\"][0]['result'][0][\"value\"][\"ranker\"][\"biased_results\"]\n",
    "\n",
    "    items = item[\"data\"][\"items\"]\n",
    "    for lbl_item in items:\n",
    "        if lbl_item[\"id\"] in good_ids:\n",
    "            res[prompt][\"good\"].append(lbl_item[\"body\"])\n",
    "        elif lbl_item[\"id\"] in bad_ids:\n",
    "            res[prompt][\"bad\"].append(lbl_item[\"body\"])\n"
   ]
  },
  {
   "cell_type": "code",
   "execution_count": null,
   "metadata": {},
   "outputs": [],
   "source": [
    "res"
   ]
  },
  {
   "cell_type": "code",
   "execution_count": 106,
   "metadata": {},
   "outputs": [],
   "source": [
    "all_combs_data = []\n",
    "random_combs_data = []\n",
    "\n",
    "for prompt, answers in res.items():\n",
    "    fixed_prompt = fix_prompt(prompt)\n",
    "    good = answers[\"good\"]\n",
    "    clean_good = [clean(text) for text in good]\n",
    "    bad = answers[\"bad\"]\n",
    "\n",
    "    all_combs = all_possible_combs(clean_good, bad) # list of tuples\n",
    "    for g, b in all_combs:\n",
    "        all_combs_data.append({\"prompt\": fixed_prompt,\n",
    "                               \"chosen\": g,\n",
    "                               \"rejected\": b})\n",
    "    rand_combs = random_combs(clean_good, bad)\n",
    "    for g, b in rand_combs:\n",
    "        random_combs_data.append({\"prompt\": fixed_prompt,\n",
    "                                  \"chosen\": g,\n",
    "                                  \"rejected\": b})"
   ]
  },
  {
   "cell_type": "code",
   "execution_count": 107,
   "metadata": {},
   "outputs": [
    {
     "data": {
      "text/plain": [
       "1188"
      ]
     },
     "execution_count": 107,
     "metadata": {},
     "output_type": "execute_result"
    }
   ],
   "source": [
    "len(random_combs_data)"
   ]
  },
  {
   "cell_type": "code",
   "execution_count": 108,
   "metadata": {},
   "outputs": [
    {
     "data": {
      "text/plain": [
       "6295"
      ]
     },
     "execution_count": 108,
     "metadata": {},
     "output_type": "execute_result"
    }
   ],
   "source": [
    "len(all_combs_data)"
   ]
  },
  {
   "cell_type": "code",
   "execution_count": 109,
   "metadata": {},
   "outputs": [],
   "source": [
    "df_all = pd.DataFrame(data=all_combs_data)"
   ]
  },
  {
   "cell_type": "code",
   "execution_count": 110,
   "metadata": {},
   "outputs": [
    {
     "data": {
      "text/html": [
       "<div>\n",
       "<style scoped>\n",
       "    .dataframe tbody tr th:only-of-type {\n",
       "        vertical-align: middle;\n",
       "    }\n",
       "\n",
       "    .dataframe tbody tr th {\n",
       "        vertical-align: top;\n",
       "    }\n",
       "\n",
       "    .dataframe thead th {\n",
       "        text-align: right;\n",
       "    }\n",
       "</style>\n",
       "<table border=\"1\" class=\"dataframe\">\n",
       "  <thead>\n",
       "    <tr style=\"text-align: right;\">\n",
       "      <th></th>\n",
       "      <th>prompt</th>\n",
       "      <th>chosen</th>\n",
       "      <th>rejected</th>\n",
       "    </tr>\n",
       "  </thead>\n",
       "  <tbody>\n",
       "    <tr>\n",
       "      <th>0</th>\n",
       "      <td>Пол: мужчина. Возраст: 38 лет. Желаемая зарпла...</td>\n",
       "      <td>Я идеальный кандидат на должность администрати...</td>\n",
       "      <td>Я с радостью помогу вам сгенерировать поле «О ...</td>\n",
       "    </tr>\n",
       "    <tr>\n",
       "      <th>1</th>\n",
       "      <td>Пол: мужчина. Возраст: 38 лет. Желаемая зарпла...</td>\n",
       "      <td>Я идеальный кандидат на должность администрати...</td>\n",
       "      <td>Я с радостью помогу вам сгенерировать поле «О ...</td>\n",
       "    </tr>\n",
       "    <tr>\n",
       "      <th>2</th>\n",
       "      <td>Пол: мужчина. Возраст: 38 лет. Желаемая зарпла...</td>\n",
       "      <td>Я идеальный кандидат на должность администрати...</td>\n",
       "      <td>\"Я идеальный кандидат для должности Администра...</td>\n",
       "    </tr>\n",
       "    <tr>\n",
       "      <th>3</th>\n",
       "      <td>Пол: мужчина. Возраст: 38 лет. Желаемая зарпла...</td>\n",
       "      <td>Мужчина, 47 лет, проживаю в Москве. Обладаю во...</td>\n",
       "      <td>Я с радостью помогу вам сгенерировать поле «О ...</td>\n",
       "    </tr>\n",
       "    <tr>\n",
       "      <th>4</th>\n",
       "      <td>Пол: мужчина. Возраст: 38 лет. Желаемая зарпла...</td>\n",
       "      <td>Мужчина, 47 лет, проживаю в Москве. Обладаю во...</td>\n",
       "      <td>Я с радостью помогу вам сгенерировать поле «О ...</td>\n",
       "    </tr>\n",
       "  </tbody>\n",
       "</table>\n",
       "</div>"
      ],
      "text/plain": [
       "                                              prompt  \\\n",
       "0  Пол: мужчина. Возраст: 38 лет. Желаемая зарпла...   \n",
       "1  Пол: мужчина. Возраст: 38 лет. Желаемая зарпла...   \n",
       "2  Пол: мужчина. Возраст: 38 лет. Желаемая зарпла...   \n",
       "3  Пол: мужчина. Возраст: 38 лет. Желаемая зарпла...   \n",
       "4  Пол: мужчина. Возраст: 38 лет. Желаемая зарпла...   \n",
       "\n",
       "                                              chosen  \\\n",
       "0  Я идеальный кандидат на должность администрати...   \n",
       "1  Я идеальный кандидат на должность администрати...   \n",
       "2  Я идеальный кандидат на должность администрати...   \n",
       "3  Мужчина, 47 лет, проживаю в Москве. Обладаю во...   \n",
       "4  Мужчина, 47 лет, проживаю в Москве. Обладаю во...   \n",
       "\n",
       "                                            rejected  \n",
       "0  Я с радостью помогу вам сгенерировать поле «О ...  \n",
       "1  Я с радостью помогу вам сгенерировать поле «О ...  \n",
       "2  \"Я идеальный кандидат для должности Администра...  \n",
       "3  Я с радостью помогу вам сгенерировать поле «О ...  \n",
       "4  Я с радостью помогу вам сгенерировать поле «О ...  "
      ]
     },
     "execution_count": 110,
     "metadata": {},
     "output_type": "execute_result"
    }
   ],
   "source": [
    "df_all.head()"
   ]
  },
  {
   "cell_type": "code",
   "execution_count": 111,
   "metadata": {},
   "outputs": [],
   "source": [
    "df_all.to_csv(\"./data/all_pos_combs_dpo_data.csv\")"
   ]
  },
  {
   "cell_type": "code",
   "execution_count": 112,
   "metadata": {},
   "outputs": [],
   "source": [
    "df_rnd = pd.DataFrame(data=random_combs_data)"
   ]
  },
  {
   "cell_type": "code",
   "execution_count": 113,
   "metadata": {},
   "outputs": [
    {
     "data": {
      "text/html": [
       "<div>\n",
       "<style scoped>\n",
       "    .dataframe tbody tr th:only-of-type {\n",
       "        vertical-align: middle;\n",
       "    }\n",
       "\n",
       "    .dataframe tbody tr th {\n",
       "        vertical-align: top;\n",
       "    }\n",
       "\n",
       "    .dataframe thead th {\n",
       "        text-align: right;\n",
       "    }\n",
       "</style>\n",
       "<table border=\"1\" class=\"dataframe\">\n",
       "  <thead>\n",
       "    <tr style=\"text-align: right;\">\n",
       "      <th></th>\n",
       "      <th>prompt</th>\n",
       "      <th>chosen</th>\n",
       "      <th>rejected</th>\n",
       "    </tr>\n",
       "  </thead>\n",
       "  <tbody>\n",
       "    <tr>\n",
       "      <th>0</th>\n",
       "      <td>Пол: мужчина. Возраст: 38 лет. Желаемая зарпла...</td>\n",
       "      <td>Я идеальный кандидат на должность администрати...</td>\n",
       "      <td>Я с радостью помогу вам сгенерировать поле «О ...</td>\n",
       "    </tr>\n",
       "    <tr>\n",
       "      <th>1</th>\n",
       "      <td>Пол: мужчина. Возраст: 38 лет. Желаемая зарпла...</td>\n",
       "      <td>Мужчина, 47 лет, проживаю в Москве. Обладаю во...</td>\n",
       "      <td>Я с радостью помогу вам сгенерировать поле «О ...</td>\n",
       "    </tr>\n",
       "    <tr>\n",
       "      <th>2</th>\n",
       "      <td>Пол: мужчина. Возраст: 38 лет. Желаемая зарпла...</td>\n",
       "      <td>Я опытный менеджер по продажам с водительским ...</td>\n",
       "      <td>\"Я идеальный кандидат для должности Администра...</td>\n",
       "    </tr>\n",
       "    <tr>\n",
       "      <th>3</th>\n",
       "      <td>Пол: мужчина. Возраст: 18 лет. Желаемая зарпла...</td>\n",
       "      <td>Я молодой и энергичный оператор с опытом работ...</td>\n",
       "      <td>Я мужчина, проживаю в Москве. Имею опыт работы...</td>\n",
       "    </tr>\n",
       "    <tr>\n",
       "      <th>4</th>\n",
       "      <td>Пол: мужчина. Возраст: 18 лет. Желаемая зарпла...</td>\n",
       "      <td>Я мужчина, проживаю в Москве и готов к новым в...</td>\n",
       "      <td>Я с радостью помогу вам сгенерировать поле «О ...</td>\n",
       "    </tr>\n",
       "  </tbody>\n",
       "</table>\n",
       "</div>"
      ],
      "text/plain": [
       "                                              prompt  \\\n",
       "0  Пол: мужчина. Возраст: 38 лет. Желаемая зарпла...   \n",
       "1  Пол: мужчина. Возраст: 38 лет. Желаемая зарпла...   \n",
       "2  Пол: мужчина. Возраст: 38 лет. Желаемая зарпла...   \n",
       "3  Пол: мужчина. Возраст: 18 лет. Желаемая зарпла...   \n",
       "4  Пол: мужчина. Возраст: 18 лет. Желаемая зарпла...   \n",
       "\n",
       "                                              chosen  \\\n",
       "0  Я идеальный кандидат на должность администрати...   \n",
       "1  Мужчина, 47 лет, проживаю в Москве. Обладаю во...   \n",
       "2  Я опытный менеджер по продажам с водительским ...   \n",
       "3  Я молодой и энергичный оператор с опытом работ...   \n",
       "4  Я мужчина, проживаю в Москве и готов к новым в...   \n",
       "\n",
       "                                            rejected  \n",
       "0  Я с радостью помогу вам сгенерировать поле «О ...  \n",
       "1  Я с радостью помогу вам сгенерировать поле «О ...  \n",
       "2  \"Я идеальный кандидат для должности Администра...  \n",
       "3  Я мужчина, проживаю в Москве. Имею опыт работы...  \n",
       "4  Я с радостью помогу вам сгенерировать поле «О ...  "
      ]
     },
     "execution_count": 113,
     "metadata": {},
     "output_type": "execute_result"
    }
   ],
   "source": [
    "df_rnd.head()"
   ]
  },
  {
   "cell_type": "code",
   "execution_count": 114,
   "metadata": {},
   "outputs": [],
   "source": [
    "df_rnd.to_csv(\"./data/random_combs_dpo_data.csv\")"
   ]
  },
  {
   "cell_type": "markdown",
   "metadata": {},
   "source": [
    "### split"
   ]
  },
  {
   "cell_type": "code",
   "execution_count": 115,
   "metadata": {},
   "outputs": [],
   "source": [
    "TRAIN_RATIO = 0.9"
   ]
  },
  {
   "cell_type": "code",
   "execution_count": 116,
   "metadata": {},
   "outputs": [],
   "source": [
    "def get_train_eval(df, train_ratio: float):\n",
    "    \"\"\" создает train и eval датасеты указанной пропорции\"\"\"                                                  \n",
    "                                                    \n",
    "    num_rows = int(len(df) * train_ratio)\n",
    "    \n",
    "    train_df = df[:num_rows]\n",
    "    eval_df = df[num_rows:]\n",
    "    \n",
    "    return train_df, eval_df    "
   ]
  },
  {
   "cell_type": "code",
   "execution_count": 117,
   "metadata": {},
   "outputs": [],
   "source": [
    "train_df_all, eval_df_all = get_train_eval(df_all, TRAIN_RATIO)\n",
    "train_df_rnd, eval_df_rnd = get_train_eval(df_rnd, TRAIN_RATIO)"
   ]
  },
  {
   "cell_type": "code",
   "execution_count": 118,
   "metadata": {},
   "outputs": [],
   "source": [
    "train_df_all.to_json(f\"./data/all/train_all.json\", orient=\"records\", lines=True)\n",
    "eval_df_all.to_json(f\"./data/all/eval_all.json\", orient=\"records\", lines=True)\n",
    "\n",
    "train_df_rnd.to_json(f\"./data/rnd/train_rnd.json\", orient=\"records\", lines=True)\n",
    "eval_df_rnd.to_json(f\"./data/rnd/eval_rnd.json\", orient=\"records\", lines=True)"
   ]
  }
 ],
 "metadata": {
  "kernelspec": {
   "display_name": "train_venv",
   "language": "python",
   "name": "python3"
  },
  "language_info": {
   "codemirror_mode": {
    "name": "ipython",
    "version": 3
   },
   "file_extension": ".py",
   "mimetype": "text/x-python",
   "name": "python",
   "nbconvert_exporter": "python",
   "pygments_lexer": "ipython3",
   "version": "3.11.6"
  }
 },
 "nbformat": 4,
 "nbformat_minor": 2
}
