{
 "cells": [
  {
   "cell_type": "markdown",
   "id": "87a0f816",
   "metadata": {},
   "source": [
    "В данном ноутбуке реализованы все необходимые шаги для SFT пайплайна, включая подготовку датасета."
   ]
  },
  {
   "cell_type": "markdown",
   "id": "c6ecfbb9",
   "metadata": {},
   "source": [
    "# Импорты"
   ]
  },
  {
   "cell_type": "code",
   "execution_count": 1,
   "id": "2d20a496",
   "metadata": {
    "ExecuteTime": {
     "end_time": "2023-07-10T09:48:34.217600Z",
     "start_time": "2023-07-10T09:48:34.202593Z"
    }
   },
   "outputs": [
    {
     "name": "stderr",
     "output_type": "stream",
     "text": [
      "e:\\cv-generation-git\\train_venv\\Lib\\site-packages\\tqdm\\auto.py:21: TqdmWarning: IProgress not found. Please update jupyter and ipywidgets. See https://ipywidgets.readthedocs.io/en/stable/user_install.html\n",
      "  from .autonotebook import tqdm as notebook_tqdm\n"
     ]
    }
   ],
   "source": [
    "from dotenv import load_dotenv\n",
    "import sys\n",
    "sys.path.append(\"./src\")\n",
    "import os\n",
    "import pandas as pd\n",
    "import numpy as np\n",
    "from transformers import AutoTokenizer, DataCollatorForSeq2Seq\n",
    "from transformers import AutoModelForSeq2SeqLM, Seq2SeqTrainingArguments, Seq2SeqTrainer\n",
    "\n",
    "from src import custom_dataset\n",
    "from src.train import train\n",
    "\n",
    "import clearml\n",
    "\n",
    "os.environ[\"WANDB_DISABLED\"] = \"true\""
   ]
  },
  {
   "cell_type": "markdown",
   "id": "4fc30025",
   "metadata": {
    "ExecuteTime": {
     "end_time": "2023-06-27T11:58:04.926693Z",
     "start_time": "2023-06-27T11:58:04.922746Z"
    }
   },
   "source": [
    "# Задаем требуемые константы"
   ]
  },
  {
   "cell_type": "code",
   "execution_count": 1,
   "id": "50d2c18a",
   "metadata": {
    "ExecuteTime": {
     "end_time": "2023-07-10T09:48:36.954351Z",
     "start_time": "2023-07-10T09:48:36.947520Z"
    }
   },
   "outputs": [],
   "source": [
    "DATA_DIR = \"./data\"\n",
    "\n",
    "# соотношение train и eval датасетов для SFT пайплайна\n",
    "TRAIN_RATIO = 0.9\n",
    "\n",
    "MODEL_NAME = \"IlyaGusev/rut5_base_sum_gazeta\""
   ]
  },
  {
   "cell_type": "markdown",
   "id": "259420ab",
   "metadata": {},
   "source": [
    "# Функции"
   ]
  },
  {
   "cell_type": "code",
   "execution_count": 2,
   "id": "0d014657",
   "metadata": {
    "ExecuteTime": {
     "end_time": "2023-07-10T09:48:38.727518Z",
     "start_time": "2023-07-10T09:48:38.696960Z"
    }
   },
   "outputs": [],
   "source": [
    "def get_train_eval(df, train_ratio: float):\n",
    "    \"\"\" создает train и eval датасеты указанной пропорции\"\"\"                                                  \n",
    "                                                    \n",
    "    num_rows = int(len(df) * train_ratio)\n",
    "    \n",
    "    train_df = df[:num_rows]\n",
    "    eval_df = df[num_rows:]\n",
    "    \n",
    "    return train_df, eval_df                        "
   ]
  },
  {
   "cell_type": "markdown",
   "id": "e8104b4b",
   "metadata": {
    "ExecuteTime": {
     "end_time": "2023-07-03T09:01:37.578365Z",
     "start_time": "2023-07-03T09:01:37.574710Z"
    }
   },
   "source": [
    "# Готовим данные для этапа SFT"
   ]
  },
  {
   "cell_type": "markdown",
   "id": "ae5720d2",
   "metadata": {},
   "source": [
    "Загружаем датасет, содержащий примеры поля \"о себе\" в резюме, написанные людьми"
   ]
  },
  {
   "cell_type": "code",
   "execution_count": null,
   "id": "e817672e",
   "metadata": {
    "ExecuteTime": {
     "end_time": "2023-07-10T09:48:46.008908Z",
     "start_time": "2023-07-10T09:48:45.506624Z"
    }
   },
   "outputs": [],
   "source": [
    "df = pd.read_csv(os.path.join(DATA_DIR, \"sft_dataset.csv\"))"
   ]
  },
  {
   "cell_type": "code",
   "execution_count": null,
   "metadata": {},
   "outputs": [
    {
     "data": {
      "text/html": [
       "<div>\n",
       "<style scoped>\n",
       "    .dataframe tbody tr th:only-of-type {\n",
       "        vertical-align: middle;\n",
       "    }\n",
       "\n",
       "    .dataframe tbody tr th {\n",
       "        vertical-align: top;\n",
       "    }\n",
       "\n",
       "    .dataframe thead th {\n",
       "        text-align: right;\n",
       "    }\n",
       "</style>\n",
       "<table border=\"1\" class=\"dataframe\">\n",
       "  <thead>\n",
       "    <tr style=\"text-align: right;\">\n",
       "      <th></th>\n",
       "      <th>source</th>\n",
       "      <th>target</th>\n",
       "    </tr>\n",
       "  </thead>\n",
       "  <tbody>\n",
       "    <tr>\n",
       "      <th>0</th>\n",
       "      <td>Пол: Мужчина. Желаемая зарплата: от 200000.0 р...</td>\n",
       "      <td>Мне - 60-летнему мужчине, проживающему в Москв...</td>\n",
       "    </tr>\n",
       "    <tr>\n",
       "      <th>1</th>\n",
       "      <td>Пол: Мужчина. Желаемая зарплата: от 25000.0 ру...</td>\n",
       "      <td>Опытный бухгалтер с 53-летним стажем и опытом ...</td>\n",
       "    </tr>\n",
       "    <tr>\n",
       "      <th>2</th>\n",
       "      <td>Пол: Мужчина. Желаемая зарплата: от 150000.0 р...</td>\n",
       "      <td>Я - опытный сотрудник службы безопасности с бо...</td>\n",
       "    </tr>\n",
       "    <tr>\n",
       "      <th>3</th>\n",
       "      <td>Пол: Мужчина. Желаемая зарплата: от 190000.0 р...</td>\n",
       "      <td>Я опытный заместитель генерального директора с...</td>\n",
       "    </tr>\n",
       "    <tr>\n",
       "      <th>4</th>\n",
       "      <td>Пол: Женщина. Желаемая зарплата: от 0.0 рублей...</td>\n",
       "      <td>Я педагог с большим опытом работы в этой облас...</td>\n",
       "    </tr>\n",
       "  </tbody>\n",
       "</table>\n",
       "</div>"
      ],
      "text/plain": [
       "                                              source  \\\n",
       "0  Пол: Мужчина. Желаемая зарплата: от 200000.0 р...   \n",
       "1  Пол: Мужчина. Желаемая зарплата: от 25000.0 ру...   \n",
       "2  Пол: Мужчина. Желаемая зарплата: от 150000.0 р...   \n",
       "3  Пол: Мужчина. Желаемая зарплата: от 190000.0 р...   \n",
       "4  Пол: Женщина. Желаемая зарплата: от 0.0 рублей...   \n",
       "\n",
       "                                              target  \n",
       "0  Мне - 60-летнему мужчине, проживающему в Москв...  \n",
       "1  Опытный бухгалтер с 53-летним стажем и опытом ...  \n",
       "2  Я - опытный сотрудник службы безопасности с бо...  \n",
       "3  Я опытный заместитель генерального директора с...  \n",
       "4  Я педагог с большим опытом работы в этой облас...  "
      ]
     },
     "execution_count": 5,
     "metadata": {},
     "output_type": "execute_result"
    }
   ],
   "source": [
    "df.drop(axis=1, columns=[\"Unnamed: 0\"], inplace=True)"
   ]
  },
  {
   "cell_type": "markdown",
   "id": "46f6d562",
   "metadata": {},
   "source": [
    "## Генерим финальные датасеты train и eval для запуска SFT"
   ]
  },
  {
   "cell_type": "code",
   "execution_count": null,
   "id": "99755882",
   "metadata": {
    "ExecuteTime": {
     "end_time": "2023-07-10T09:49:08.783678Z",
     "start_time": "2023-07-10T09:49:06.489617Z"
    }
   },
   "outputs": [
    {
     "data": {
      "text/plain": [
       "(1417, 2)"
      ]
     },
     "execution_count": 6,
     "metadata": {},
     "output_type": "execute_result"
    }
   ],
   "source": [
    "train_df, eval_df = get_train_eval(df, TRAIN_RATIO)\n",
    "train_df.shape"
   ]
  },
  {
   "cell_type": "code",
   "execution_count": null,
   "id": "8283ae7f",
   "metadata": {
    "ExecuteTime": {
     "end_time": "2023-07-10T09:49:13.781845Z",
     "start_time": "2023-07-10T09:49:13.773137Z"
    }
   },
   "outputs": [
    {
     "data": {
      "text/plain": [
       "(158, 2)"
      ]
     },
     "execution_count": 7,
     "metadata": {},
     "output_type": "execute_result"
    }
   ],
   "source": [
    "eval_df.shape"
   ]
  },
  {
   "cell_type": "code",
   "execution_count": null,
   "id": "dd0093be",
   "metadata": {
    "ExecuteTime": {
     "end_time": "2023-07-03T13:51:11.207402Z",
     "start_time": "2023-07-03T13:51:09.258832Z"
    }
   },
   "outputs": [],
   "source": [
    "train_df.to_json(f\"{DATA_DIR}/train.json\", orient=\"records\", lines=True)\n",
    "eval_df.to_json(f\"{DATA_DIR}/eval.json\", orient=\"records\", lines=True)"
   ]
  },
  {
   "cell_type": "markdown",
   "id": "2a3963ed",
   "metadata": {
    "ExecuteTime": {
     "end_time": "2023-07-03T14:02:22.747219Z",
     "start_time": "2023-07-03T14:02:22.740763Z"
    }
   },
   "source": [
    "# Запускаем SFT"
   ]
  },
  {
   "cell_type": "code",
   "execution_count": 3,
   "id": "a2df99dd",
   "metadata": {},
   "outputs": [
    {
     "name": "stdout",
     "output_type": "stream",
     "text": [
      "ClearML Task: created new task id=7bf08c37521c46ffbc6fd5267386b0fb\n",
      "2024-06-16 05:32:58,800 - clearml.Repository Detection - WARNING - Could not read Jupyter Notebook: No module named 'nbconvert'\n",
      "2024-06-16 05:32:58,818 - clearml.Task - INFO - Storing jupyter notebook directly as code\n",
      "ClearML results page: https://app.clear.ml/projects/4dfada0d47c54d358198351db8a35944/experiments/7bf08c37521c46ffbc6fd5267386b0fb/output/log\n"
     ]
    },
    {
     "name": "stderr",
     "output_type": "stream",
     "text": [
      "loading file spiece.model from cache at C:\\Users\\yxtag/.cache\\huggingface\\hub\\models--IlyaGusev--rut5_base_sum_gazeta\\snapshots\\f09a08cae5d74c70e55da1a6ebb49f88c26f433b\\spiece.model\n",
      "loading file tokenizer.json from cache at C:\\Users\\yxtag/.cache\\huggingface\\hub\\models--IlyaGusev--rut5_base_sum_gazeta\\snapshots\\f09a08cae5d74c70e55da1a6ebb49f88c26f433b\\tokenizer.json\n",
      "loading file added_tokens.json from cache at None\n",
      "loading file special_tokens_map.json from cache at C:\\Users\\yxtag/.cache\\huggingface\\hub\\models--IlyaGusev--rut5_base_sum_gazeta\\snapshots\\f09a08cae5d74c70e55da1a6ebb49f88c26f433b\\special_tokens_map.json\n",
      "loading file tokenizer_config.json from cache at C:\\Users\\yxtag/.cache\\huggingface\\hub\\models--IlyaGusev--rut5_base_sum_gazeta\\snapshots\\f09a08cae5d74c70e55da1a6ebb49f88c26f433b\\tokenizer_config.json\n"
     ]
    },
    {
     "name": "stdout",
     "output_type": "stream",
     "text": [
      "Vocab size:  30000\n",
      "PAD:  0 <pad>\n",
      "BOS:  None None\n",
      "EOS:  1 </s>\n",
      "UNK:  2 <unk>\n",
      "SEP:  None None\n"
     ]
    },
    {
     "name": "stderr",
     "output_type": "stream",
     "text": [
      "100%|██████████| 1417/1417 [00:01<00:00, 926.41it/s] \n",
      "100%|██████████| 158/158 [00:00<00:00, 1516.30it/s]\n",
      "loading configuration file config.json from cache at C:\\Users\\yxtag/.cache\\huggingface\\hub\\models--IlyaGusev--rut5_base_sum_gazeta\\snapshots\\f09a08cae5d74c70e55da1a6ebb49f88c26f433b\\config.json\n",
      "Model config T5Config {\n",
      "  \"_name_or_path\": \"IlyaGusev/rut5_base_sum_gazeta\",\n",
      "  \"architectures\": [\n",
      "    \"T5ForConditionalGeneration\"\n",
      "  ],\n",
      "  \"bos_token_id\": 2,\n",
      "  \"classifier_dropout\": 0.0,\n",
      "  \"d_ff\": 2048,\n",
      "  \"d_kv\": 64,\n",
      "  \"d_model\": 768,\n",
      "  \"decoder_start_token_id\": 2,\n",
      "  \"dense_act_fn\": \"gelu_new\",\n",
      "  \"dropout_rate\": 0.1,\n",
      "  \"eos_token_id\": 1,\n",
      "  \"feed_forward_proj\": \"gated-gelu\",\n",
      "  \"initializer_factor\": 1.0,\n",
      "  \"is_encoder_decoder\": true,\n",
      "  \"is_gated_act\": true,\n",
      "  \"layer_norm_epsilon\": 1e-06,\n",
      "  \"max_length\": 200,\n",
      "  \"model_type\": \"t5\",\n",
      "  \"num_beams\": 5,\n",
      "  \"num_decoder_layers\": 12,\n",
      "  \"num_heads\": 12,\n",
      "  \"num_layers\": 12,\n",
      "  \"output_past\": true,\n",
      "  \"pad_token_id\": 0,\n",
      "  \"relative_attention_max_distance\": 128,\n",
      "  \"relative_attention_num_buckets\": 32,\n",
      "  \"tie_word_embeddings\": false,\n",
      "  \"tokenizer_class\": \"T5Tokenizer\",\n",
      "  \"torch_dtype\": \"float32\",\n",
      "  \"transformers_version\": \"4.35.2\",\n",
      "  \"use_cache\": true,\n",
      "  \"vocab_size\": 30000\n",
      "}\n",
      "\n",
      "loading weights file pytorch_model.bin from cache at C:\\Users\\yxtag/.cache\\huggingface\\hub\\models--IlyaGusev--rut5_base_sum_gazeta\\snapshots\\f09a08cae5d74c70e55da1a6ebb49f88c26f433b\\pytorch_model.bin\n"
     ]
    },
    {
     "name": "stdout",
     "output_type": "stream",
     "text": [
      "2024-06-16 05:33:05,097 - clearml.model - INFO - Selected model id: 78adba2ead194f4a872f471f12b77b47\n"
     ]
    },
    {
     "name": "stderr",
     "output_type": "stream",
     "text": [
      "Generate config GenerationConfig {\n",
      "  \"bos_token_id\": 2,\n",
      "  \"decoder_start_token_id\": 2,\n",
      "  \"eos_token_id\": 1,\n",
      "  \"max_length\": 200,\n",
      "  \"num_beams\": 5,\n",
      "  \"pad_token_id\": 0\n",
      "}\n",
      "\n",
      "All model checkpoint weights were used when initializing T5ForConditionalGeneration.\n",
      "\n",
      "All the weights of T5ForConditionalGeneration were initialized from the model checkpoint at IlyaGusev/rut5_base_sum_gazeta.\n",
      "If your task is similar to the task the model of the checkpoint was trained on, you can already use T5ForConditionalGeneration for predictions without further training.\n",
      "Generation config file not found, using a generation config created from the model config.\n",
      "PyTorch: setting up devices\n",
      "The default value for the training argument `--report_to` will change in v5 (from all installed integrations to none). In v5, you will need to use `--report_to all` to get the same behavior as now. You should start updating your code and make this info disappear :-).\n",
      "Using the `WANDB_DISABLED` environment variable is deprecated and will be removed in v5. Use the --report_to flag to control the integrations used for logging result (for instance --report_to none).\n"
     ]
    },
    {
     "name": "stdout",
     "output_type": "stream",
     "text": [
      "BATCH_SIZE=8\n"
     ]
    },
    {
     "name": "stderr",
     "output_type": "stream",
     "text": [
      "Loading model from ./models/sft_clean_only/checkpoint-140.\n",
      "There were missing keys in the checkpoint model loaded: ['encoder.embed_tokens.weight', 'decoder.embed_tokens.weight'].\n"
     ]
    },
    {
     "name": "stdout",
     "output_type": "stream",
     "text": [
      "2024-06-16 05:33:32,775 - clearml.model - INFO - Selected model id: 59219002fe024aec910612f53b9af1f9\n",
      "2024-06-16 05:33:38,317 - clearml.model - INFO - Selected model id: 1fb80f6173ec41b08eb4610cd7d812e5\n"
     ]
    },
    {
     "name": "stderr",
     "output_type": "stream",
     "text": [
      "***** Running training *****\n",
      "  Num examples = 1,417\n",
      "  Num Epochs = 10\n",
      "  Instantaneous batch size per device = 8\n",
      "  Total train batch size (w. parallel, distributed & accumulation) = 48\n",
      "  Gradient Accumulation steps = 6\n",
      "  Total optimization steps = 290\n",
      "  Number of trainable parameters = 244,309,248\n",
      "  Continuing training from checkpoint, will skip to saved global_step\n",
      "  Continuing training from epoch 4\n",
      "  Continuing training from global step 140\n",
      "  Will skip the first 4 epochs then the first 144 batches in the first epoch.\n",
      "Automatic ClearML logging enabled.\n",
      "External ClearML Task has been connected.\n",
      "Unsupported key of type '<class 'int'>' found when connecting dictionary. It will be converted to str\n",
      "  0%|          | 0/290 [00:00<?, ?it/s]"
     ]
    },
    {
     "name": "stdout",
     "output_type": "stream",
     "text": [
      "2024-06-16 05:33:46,740 - clearml.model - INFO - Selected model id: 0209e9511f3f42be8190bf4b18221902\n",
      "ClearML Monitor: Could not detect iteration reporting, falling back to iterations as seconds-from-start\n"
     ]
    },
    {
     "name": "stderr",
     "output_type": "stream",
     "text": [
      " 49%|████▊     | 141/290 [02:30<02:38,  1.06s/it]"
     ]
    },
    {
     "name": "stdout",
     "output_type": "stream",
     "text": [
      "{'loss': 1.0077, 'learning_rate': 0.0003136842105263158, 'epoch': 4.84}\n",
      "ClearML Monitor: Reporting detected, reverting back to iteration based reporting\n"
     ]
    },
    {
     "name": "stderr",
     "output_type": "stream",
     "text": [
      " 50%|████▉     | 144/290 [08:19<14:42,  6.05s/it]"
     ]
    },
    {
     "name": "stdout",
     "output_type": "stream",
     "text": [
      "{'loss': 1.0503, 'learning_rate': 0.0003073684210526316, 'epoch': 4.94}\n"
     ]
    },
    {
     "name": "stderr",
     "output_type": "stream",
     "text": [
      " 51%|█████     | 147/290 [13:52<42:29, 17.83s/it]"
     ]
    },
    {
     "name": "stdout",
     "output_type": "stream",
     "text": [
      "{'loss': 1.0584, 'learning_rate': 0.0003010526315789474, 'epoch': 5.04}\n"
     ]
    },
    {
     "name": "stderr",
     "output_type": "stream",
     "text": [
      " 52%|█████▏    | 150/290 [19:40<1:38:04, 42.03s/it]"
     ]
    },
    {
     "name": "stdout",
     "output_type": "stream",
     "text": [
      "{'loss': 1.0526, 'learning_rate': 0.00029473684210526316, 'epoch': 5.15}\n"
     ]
    },
    {
     "name": "stderr",
     "output_type": "stream",
     "text": [
      " 53%|█████▎    | 153/290 [25:22<2:44:56, 72.24s/it]"
     ]
    },
    {
     "name": "stdout",
     "output_type": "stream",
     "text": [
      "{'loss': 1.1137, 'learning_rate': 0.00028842105263157897, 'epoch': 5.25}\n"
     ]
    },
    {
     "name": "stderr",
     "output_type": "stream",
     "text": [
      " 54%|█████▍    | 156/290 [31:20<3:37:28, 97.38s/it]"
     ]
    },
    {
     "name": "stdout",
     "output_type": "stream",
     "text": [
      "{'loss': 1.0166, 'learning_rate': 0.0002821052631578947, 'epoch': 5.35}\n"
     ]
    },
    {
     "name": "stderr",
     "output_type": "stream",
     "text": [
      " 55%|█████▍    | 159/290 [37:09<3:57:57, 108.99s/it]"
     ]
    },
    {
     "name": "stdout",
     "output_type": "stream",
     "text": [
      "{'loss': 1.0596, 'learning_rate': 0.00027578947368421053, 'epoch': 5.45}\n"
     ]
    },
    {
     "name": "stderr",
     "output_type": "stream",
     "text": [
      " 55%|█████▌    | 160/290 [39:05<4:01:26, 111.43s/it]***** Running Evaluation *****\n",
      "  Num examples = 158\n",
      "  Batch size = 8\n",
      "                                                    \n",
      " 55%|█████▌    | 160/290 [41:25<4:01:26, 111.43s/it]Saving model checkpoint to ./models/sft_clean_only_2\\checkpoint-160\n",
      "Configuration saved in ./models/sft_clean_only_2\\checkpoint-160\\config.json\n",
      "Configuration saved in ./models/sft_clean_only_2\\checkpoint-160\\generation_config.json\n"
     ]
    },
    {
     "name": "stdout",
     "output_type": "stream",
     "text": [
      "{'eval_loss': 1.025014877319336, 'eval_runtime': 139.4429, 'eval_samples_per_second': 1.133, 'eval_steps_per_second': 0.143, 'epoch': 5.48}\n"
     ]
    },
    {
     "name": "stderr",
     "output_type": "stream",
     "text": [
      "Model weights saved in ./models/sft_clean_only_2\\checkpoint-160\\pytorch_model.bin\n",
      " 56%|█████▌    | 162/290 [46:11<5:29:22, 154.39s/it]"
     ]
    },
    {
     "name": "stdout",
     "output_type": "stream",
     "text": [
      "{'loss': 1.0501, 'learning_rate': 0.00026947368421052634, 'epoch': 5.55}\n"
     ]
    },
    {
     "name": "stderr",
     "output_type": "stream",
     "text": [
      " 57%|█████▋    | 165/290 [52:06<4:33:18, 131.19s/it]"
     ]
    },
    {
     "name": "stdout",
     "output_type": "stream",
     "text": [
      "{'loss': 1.066, 'learning_rate': 0.00026315789473684215, 'epoch': 5.65}\n"
     ]
    },
    {
     "name": "stderr",
     "output_type": "stream",
     "text": [
      " 58%|█████▊    | 168/290 [58:03<4:09:47, 122.85s/it]"
     ]
    },
    {
     "name": "stdout",
     "output_type": "stream",
     "text": [
      "{'loss': 1.0968, 'learning_rate': 0.0002568421052631579, 'epoch': 5.75}\n"
     ]
    },
    {
     "name": "stderr",
     "output_type": "stream",
     "text": [
      " 59%|█████▉    | 171/290 [1:03:58<3:57:40, 119.84s/it]"
     ]
    },
    {
     "name": "stdout",
     "output_type": "stream",
     "text": [
      "{'loss': 1.0845, 'learning_rate': 0.00025052631578947367, 'epoch': 5.85}\n"
     ]
    },
    {
     "name": "stderr",
     "output_type": "stream",
     "text": [
      " 60%|██████    | 174/290 [1:09:25<3:37:21, 112.43s/it]"
     ]
    },
    {
     "name": "stdout",
     "output_type": "stream",
     "text": [
      "{'loss': 1.0117, 'learning_rate': 0.0002442105263157895, 'epoch': 5.96}\n"
     ]
    },
    {
     "name": "stderr",
     "output_type": "stream",
     "text": [
      " 61%|██████    | 177/290 [1:14:30<3:18:58, 105.65s/it]"
     ]
    },
    {
     "name": "stdout",
     "output_type": "stream",
     "text": [
      "{'loss': 0.9877, 'learning_rate': 0.00023789473684210526, 'epoch': 6.06}\n"
     ]
    },
    {
     "name": "stderr",
     "output_type": "stream",
     "text": [
      " 62%|██████▏   | 180/290 [1:19:49<3:14:44, 106.22s/it]***** Running Evaluation *****\n",
      "  Num examples = 158\n",
      "  Batch size = 8\n"
     ]
    },
    {
     "name": "stdout",
     "output_type": "stream",
     "text": [
      "{'loss': 1.0121, 'learning_rate': 0.00023157894736842107, 'epoch': 6.16}\n"
     ]
    },
    {
     "name": "stderr",
     "output_type": "stream",
     "text": [
      "                                                      \n",
      " 62%|██████▏   | 180/290 [1:21:53<3:14:44, 106.22s/it]Saving model checkpoint to ./models/sft_clean_only_2\\checkpoint-180\n"
     ]
    },
    {
     "name": "stdout",
     "output_type": "stream",
     "text": [
      "{'eval_loss': 1.0096105337142944, 'eval_runtime': 124.0009, 'eval_samples_per_second': 1.274, 'eval_steps_per_second': 0.161, 'epoch': 6.16}\n"
     ]
    },
    {
     "name": "stderr",
     "output_type": "stream",
     "text": [
      "Configuration saved in ./models/sft_clean_only_2\\checkpoint-180\\config.json\n",
      "Configuration saved in ./models/sft_clean_only_2\\checkpoint-180\\generation_config.json\n",
      "Model weights saved in ./models/sft_clean_only_2\\checkpoint-180\\pytorch_model.bin\n",
      " 63%|██████▎   | 183/290 [1:27:50<3:51:59, 130.09s/it]"
     ]
    },
    {
     "name": "stdout",
     "output_type": "stream",
     "text": [
      "{'loss': 1.0131, 'learning_rate': 0.00022526315789473685, 'epoch': 6.26}\n"
     ]
    },
    {
     "name": "stderr",
     "output_type": "stream",
     "text": [
      " 64%|██████▍   | 186/290 [1:33:09<3:18:27, 114.50s/it]"
     ]
    },
    {
     "name": "stdout",
     "output_type": "stream",
     "text": [
      "{'loss': 0.9934, 'learning_rate': 0.00021894736842105266, 'epoch': 6.36}\n"
     ]
    },
    {
     "name": "stderr",
     "output_type": "stream",
     "text": [
      " 65%|██████▌   | 189/290 [1:38:29<3:03:43, 109.14s/it]"
     ]
    },
    {
     "name": "stdout",
     "output_type": "stream",
     "text": [
      "{'loss': 1.0224, 'learning_rate': 0.00021263157894736842, 'epoch': 6.46}\n"
     ]
    },
    {
     "name": "stderr",
     "output_type": "stream",
     "text": [
      " 66%|██████▌   | 192/290 [1:43:48<2:55:14, 107.29s/it]"
     ]
    },
    {
     "name": "stdout",
     "output_type": "stream",
     "text": [
      "{'loss': 1.0009, 'learning_rate': 0.00020631578947368423, 'epoch': 6.56}\n"
     ]
    },
    {
     "name": "stderr",
     "output_type": "stream",
     "text": [
      " 67%|██████▋   | 195/290 [1:49:07<2:48:52, 106.66s/it]"
     ]
    },
    {
     "name": "stdout",
     "output_type": "stream",
     "text": [
      "{'loss': 0.9995, 'learning_rate': 0.0002, 'epoch': 6.66}\n"
     ]
    },
    {
     "name": "stderr",
     "output_type": "stream",
     "text": [
      " 68%|██████▊   | 198/290 [1:54:26<2:43:07, 106.38s/it]"
     ]
    },
    {
     "name": "stdout",
     "output_type": "stream",
     "text": [
      "{'loss': 0.9939, 'learning_rate': 0.0001936842105263158, 'epoch': 6.76}\n"
     ]
    },
    {
     "name": "stderr",
     "output_type": "stream",
     "text": [
      " 69%|██████▉   | 200/290 [1:57:57<2:39:37, 106.41s/it]***** Running Evaluation *****\n",
      "  Num examples = 158\n",
      "  Batch size = 8\n",
      "                                                      \n",
      " 69%|██████▉   | 200/290 [2:00:02<2:39:37, 106.41s/it]Saving model checkpoint to ./models/sft_clean_only_2\\checkpoint-200\n",
      "Configuration saved in ./models/sft_clean_only_2\\checkpoint-200\\config.json\n",
      "Configuration saved in ./models/sft_clean_only_2\\checkpoint-200\\generation_config.json\n"
     ]
    },
    {
     "name": "stdout",
     "output_type": "stream",
     "text": [
      "{'eval_loss': 0.9943592548370361, 'eval_runtime': 124.4914, 'eval_samples_per_second': 1.269, 'eval_steps_per_second': 0.161, 'epoch': 6.83}\n"
     ]
    },
    {
     "name": "stderr",
     "output_type": "stream",
     "text": [
      "Model weights saved in ./models/sft_clean_only_2\\checkpoint-200\\pytorch_model.bin\n",
      " 69%|██████▉   | 201/290 [2:02:27<3:50:06, 155.12s/it]"
     ]
    },
    {
     "name": "stdout",
     "output_type": "stream",
     "text": [
      "{'loss': 1.0226, 'learning_rate': 0.0001873684210526316, 'epoch': 6.87}\n"
     ]
    },
    {
     "name": "stderr",
     "output_type": "stream",
     "text": [
      " 70%|███████   | 204/290 [2:07:46<2:56:09, 122.91s/it]"
     ]
    },
    {
     "name": "stdout",
     "output_type": "stream",
     "text": [
      "{'loss': 0.9621, 'learning_rate': 0.00018105263157894739, 'epoch': 6.97}\n"
     ]
    },
    {
     "name": "stderr",
     "output_type": "stream",
     "text": [
      " 71%|███████▏  | 207/290 [2:12:51<2:32:01, 109.89s/it]"
     ]
    },
    {
     "name": "stdout",
     "output_type": "stream",
     "text": [
      "{'loss': 0.9969, 'learning_rate': 0.00017473684210526317, 'epoch': 7.07}\n"
     ]
    },
    {
     "name": "stderr",
     "output_type": "stream",
     "text": [
      " 72%|███████▏  | 210/290 [2:18:10<2:23:18, 107.49s/it]"
     ]
    },
    {
     "name": "stdout",
     "output_type": "stream",
     "text": [
      "{'loss': 0.9569, 'learning_rate': 0.00016842105263157895, 'epoch': 7.17}\n"
     ]
    },
    {
     "name": "stderr",
     "output_type": "stream",
     "text": [
      " 73%|███████▎  | 213/290 [2:23:29<2:17:04, 106.82s/it]"
     ]
    },
    {
     "name": "stdout",
     "output_type": "stream",
     "text": [
      "{'loss': 0.9671, 'learning_rate': 0.00016210526315789473, 'epoch': 7.27}\n"
     ]
    },
    {
     "name": "stderr",
     "output_type": "stream",
     "text": [
      " 74%|███████▍  | 216/290 [2:28:49<2:11:36, 106.71s/it]"
     ]
    },
    {
     "name": "stdout",
     "output_type": "stream",
     "text": [
      "{'loss': 1.0083, 'learning_rate': 0.00015578947368421052, 'epoch': 7.37}\n"
     ]
    },
    {
     "name": "stderr",
     "output_type": "stream",
     "text": [
      " 76%|███████▌  | 219/290 [2:34:08<2:05:55, 106.41s/it]"
     ]
    },
    {
     "name": "stdout",
     "output_type": "stream",
     "text": [
      "{'loss': 0.9595, 'learning_rate': 0.00014947368421052633, 'epoch': 7.47}\n"
     ]
    },
    {
     "name": "stderr",
     "output_type": "stream",
     "text": [
      " 76%|███████▌  | 220/290 [2:35:53<2:04:13, 106.48s/it]***** Running Evaluation *****\n",
      "  Num examples = 158\n",
      "  Batch size = 8\n",
      "                                                      \n",
      " 76%|███████▌  | 220/290 [2:37:58<2:04:13, 106.48s/it]Saving model checkpoint to ./models/sft_clean_only_2\\checkpoint-220\n",
      "Configuration saved in ./models/sft_clean_only_2\\checkpoint-220\\config.json\n",
      "Configuration saved in ./models/sft_clean_only_2\\checkpoint-220\\generation_config.json\n"
     ]
    },
    {
     "name": "stdout",
     "output_type": "stream",
     "text": [
      "{'eval_loss': 0.9787993431091309, 'eval_runtime': 124.6501, 'eval_samples_per_second': 1.268, 'eval_steps_per_second': 0.16, 'epoch': 7.51}\n"
     ]
    },
    {
     "name": "stderr",
     "output_type": "stream",
     "text": [
      "Model weights saved in ./models/sft_clean_only_2\\checkpoint-220\\pytorch_model.bin\n",
      " 77%|███████▋  | 222/290 [2:42:11<2:39:47, 140.99s/it]"
     ]
    },
    {
     "name": "stdout",
     "output_type": "stream",
     "text": [
      "{'loss': 0.9708, 'learning_rate': 0.0001431578947368421, 'epoch': 7.57}\n"
     ]
    },
    {
     "name": "stderr",
     "output_type": "stream",
     "text": [
      " 78%|███████▊  | 225/290 [2:47:30<2:07:53, 118.05s/it]"
     ]
    },
    {
     "name": "stdout",
     "output_type": "stream",
     "text": [
      "{'loss': 0.9679, 'learning_rate': 0.0001368421052631579, 'epoch': 7.67}\n"
     ]
    },
    {
     "name": "stderr",
     "output_type": "stream",
     "text": [
      " 79%|███████▊  | 228/290 [2:52:49<1:53:57, 110.28s/it]"
     ]
    },
    {
     "name": "stdout",
     "output_type": "stream",
     "text": [
      "{'loss': 0.9544, 'learning_rate': 0.0001305263157894737, 'epoch': 7.78}\n"
     ]
    },
    {
     "name": "stderr",
     "output_type": "stream",
     "text": [
      " 80%|███████▉  | 231/290 [2:58:08<1:45:51, 107.66s/it]"
     ]
    },
    {
     "name": "stdout",
     "output_type": "stream",
     "text": [
      "{'loss': 0.9309, 'learning_rate': 0.00012421052631578949, 'epoch': 7.88}\n"
     ]
    },
    {
     "name": "stderr",
     "output_type": "stream",
     "text": [
      " 81%|████████  | 234/290 [3:03:27<1:39:51, 107.00s/it]"
     ]
    },
    {
     "name": "stdout",
     "output_type": "stream",
     "text": [
      "{'loss': 0.9568, 'learning_rate': 0.00011789473684210525, 'epoch': 7.98}\n"
     ]
    },
    {
     "name": "stderr",
     "output_type": "stream",
     "text": [
      " 82%|████████▏ | 237/290 [3:08:31<1:32:07, 104.30s/it]"
     ]
    },
    {
     "name": "stdout",
     "output_type": "stream",
     "text": [
      "{'loss': 0.9465, 'learning_rate': 0.00011157894736842105, 'epoch': 8.08}\n"
     ]
    },
    {
     "name": "stderr",
     "output_type": "stream",
     "text": [
      " 83%|████████▎ | 240/290 [3:13:50<1:28:07, 105.74s/it]***** Running Evaluation *****\n",
      "  Num examples = 158\n",
      "  Batch size = 8\n"
     ]
    },
    {
     "name": "stdout",
     "output_type": "stream",
     "text": [
      "{'loss': 0.9537, 'learning_rate': 0.00010526315789473685, 'epoch': 8.18}\n"
     ]
    },
    {
     "name": "stderr",
     "output_type": "stream",
     "text": [
      "                                                      \n",
      " 83%|████████▎ | 240/290 [3:15:54<1:28:07, 105.74s/it]Saving model checkpoint to ./models/sft_clean_only_2\\checkpoint-240\n",
      "Configuration saved in ./models/sft_clean_only_2\\checkpoint-240\\config.json\n",
      "Configuration saved in ./models/sft_clean_only_2\\checkpoint-240\\generation_config.json\n"
     ]
    },
    {
     "name": "stdout",
     "output_type": "stream",
     "text": [
      "{'eval_loss': 0.9788443446159363, 'eval_runtime': 123.9313, 'eval_samples_per_second': 1.275, 'eval_steps_per_second': 0.161, 'epoch': 8.18}\n"
     ]
    },
    {
     "name": "stderr",
     "output_type": "stream",
     "text": [
      "Model weights saved in ./models/sft_clean_only_2\\checkpoint-240\\pytorch_model.bin\n",
      " 84%|████████▍ | 243/290 [3:21:49<1:41:22, 129.42s/it]"
     ]
    },
    {
     "name": "stdout",
     "output_type": "stream",
     "text": [
      "{'loss': 0.9266, 'learning_rate': 9.894736842105263e-05, 'epoch': 8.28}\n"
     ]
    },
    {
     "name": "stderr",
     "output_type": "stream",
     "text": [
      " 85%|████████▍ | 246/290 [3:27:08<1:23:47, 114.27s/it]"
     ]
    },
    {
     "name": "stdout",
     "output_type": "stream",
     "text": [
      "{'loss': 0.9093, 'learning_rate': 9.263157894736843e-05, 'epoch': 8.38}\n"
     ]
    },
    {
     "name": "stderr",
     "output_type": "stream",
     "text": [
      " 86%|████████▌ | 249/290 [3:32:28<1:14:34, 109.13s/it]"
     ]
    },
    {
     "name": "stdout",
     "output_type": "stream",
     "text": [
      "{'loss': 0.9291, 'learning_rate': 8.631578947368421e-05, 'epoch': 8.48}\n"
     ]
    },
    {
     "name": "stderr",
     "output_type": "stream",
     "text": [
      " 87%|████████▋ | 252/290 [3:37:47<1:08:09, 107.62s/it]"
     ]
    },
    {
     "name": "stdout",
     "output_type": "stream",
     "text": [
      "{'loss': 0.9554, 'learning_rate': 8e-05, 'epoch': 8.58}\n"
     ]
    },
    {
     "name": "stderr",
     "output_type": "stream",
     "text": [
      " 88%|████████▊ | 255/290 [3:43:06<1:02:20, 106.88s/it]"
     ]
    },
    {
     "name": "stdout",
     "output_type": "stream",
     "text": [
      "{'loss': 0.894, 'learning_rate': 7.368421052631579e-05, 'epoch': 8.69}\n"
     ]
    },
    {
     "name": "stderr",
     "output_type": "stream",
     "text": [
      " 89%|████████▉ | 258/290 [3:48:25<56:48, 106.52s/it]  "
     ]
    },
    {
     "name": "stdout",
     "output_type": "stream",
     "text": [
      "{'loss': 0.9335, 'learning_rate': 6.736842105263159e-05, 'epoch': 8.79}\n"
     ]
    },
    {
     "name": "stderr",
     "output_type": "stream",
     "text": [
      " 90%|████████▉ | 260/290 [3:51:57<53:11, 106.40s/it]***** Running Evaluation *****\n",
      "  Num examples = 158\n",
      "  Batch size = 8\n",
      "                                                    \n",
      " 90%|████████▉ | 260/290 [3:54:02<53:11, 106.40s/it]"
     ]
    },
    {
     "name": "stdout",
     "output_type": "stream",
     "text": [
      "{'eval_loss': 0.9652692675590515, 'eval_runtime': 124.8854, 'eval_samples_per_second': 1.265, 'eval_steps_per_second': 0.16, 'epoch': 8.85}\n"
     ]
    },
    {
     "name": "stderr",
     "output_type": "stream",
     "text": [
      "Saving model checkpoint to ./models/sft_clean_only_2\\checkpoint-260\n",
      "Configuration saved in ./models/sft_clean_only_2\\checkpoint-260\\config.json\n",
      "Configuration saved in ./models/sft_clean_only_2\\checkpoint-260\\generation_config.json\n",
      "Model weights saved in ./models/sft_clean_only_2\\checkpoint-260\\pytorch_model.bin\n",
      " 90%|█████████ | 261/290 [3:56:26<1:14:52, 154.92s/it]"
     ]
    },
    {
     "name": "stdout",
     "output_type": "stream",
     "text": [
      "{'loss': 0.8908, 'learning_rate': 6.105263157894737e-05, 'epoch': 8.89}\n"
     ]
    },
    {
     "name": "stderr",
     "output_type": "stream",
     "text": [
      " 91%|█████████ | 264/290 [4:01:46<53:21, 123.14s/it]  "
     ]
    },
    {
     "name": "stdout",
     "output_type": "stream",
     "text": [
      "{'loss': 0.9796, 'learning_rate': 5.4736842105263165e-05, 'epoch': 8.99}\n"
     ]
    },
    {
     "name": "stderr",
     "output_type": "stream",
     "text": [
      " 92%|█████████▏| 267/290 [4:06:52<42:16, 110.28s/it]"
     ]
    },
    {
     "name": "stdout",
     "output_type": "stream",
     "text": [
      "{'loss': 0.9964, 'learning_rate': 4.842105263157895e-05, 'epoch': 9.09}\n"
     ]
    },
    {
     "name": "stderr",
     "output_type": "stream",
     "text": [
      " 93%|█████████▎| 270/290 [4:12:11<35:54, 107.71s/it]"
     ]
    },
    {
     "name": "stdout",
     "output_type": "stream",
     "text": [
      "{'loss': 0.9011, 'learning_rate': 4.210526315789474e-05, 'epoch': 9.19}\n"
     ]
    },
    {
     "name": "stderr",
     "output_type": "stream",
     "text": [
      " 94%|█████████▍| 273/290 [4:17:30<30:16, 106.85s/it]"
     ]
    },
    {
     "name": "stdout",
     "output_type": "stream",
     "text": [
      "{'loss': 0.944, 'learning_rate': 3.578947368421053e-05, 'epoch': 9.29}\n"
     ]
    },
    {
     "name": "stderr",
     "output_type": "stream",
     "text": [
      " 95%|█████████▌| 276/290 [4:22:50<24:52, 106.61s/it]"
     ]
    },
    {
     "name": "stdout",
     "output_type": "stream",
     "text": [
      "{'loss': 0.9605, 'learning_rate': 2.9473684210526314e-05, 'epoch': 9.39}\n"
     ]
    },
    {
     "name": "stderr",
     "output_type": "stream",
     "text": [
      " 96%|█████████▌| 279/290 [4:28:09<19:28, 106.26s/it]"
     ]
    },
    {
     "name": "stdout",
     "output_type": "stream",
     "text": [
      "{'loss': 0.9449, 'learning_rate': 2.3157894736842107e-05, 'epoch': 9.49}\n"
     ]
    },
    {
     "name": "stderr",
     "output_type": "stream",
     "text": [
      " 97%|█████████▋| 280/290 [4:29:55<17:46, 106.62s/it]***** Running Evaluation *****\n",
      "  Num examples = 158\n",
      "  Batch size = 8\n",
      "                                                    \n",
      " 97%|█████████▋| 280/290 [4:31:59<17:46, 106.62s/it]Saving model checkpoint to ./models/sft_clean_only_2\\checkpoint-280\n",
      "Configuration saved in ./models/sft_clean_only_2\\checkpoint-280\\config.json\n"
     ]
    },
    {
     "name": "stdout",
     "output_type": "stream",
     "text": [
      "{'eval_loss': 0.9661991000175476, 'eval_runtime': 124.027, 'eval_samples_per_second': 1.274, 'eval_steps_per_second': 0.161, 'epoch': 9.53}\n"
     ]
    },
    {
     "name": "stderr",
     "output_type": "stream",
     "text": [
      "Configuration saved in ./models/sft_clean_only_2\\checkpoint-280\\generation_config.json\n",
      "Model weights saved in ./models/sft_clean_only_2\\checkpoint-280\\pytorch_model.bin\n",
      "Deleting older checkpoint [models\\sft_clean_only_2\\checkpoint-160] due to args.save_total_limit\n",
      " 97%|█████████▋| 282/290 [4:36:10<18:42, 140.27s/it]"
     ]
    },
    {
     "name": "stdout",
     "output_type": "stream",
     "text": [
      "{'loss': 0.8841, 'learning_rate': 1.6842105263157896e-05, 'epoch': 9.6}\n"
     ]
    },
    {
     "name": "stderr",
     "output_type": "stream",
     "text": [
      " 98%|█████████▊| 285/290 [4:41:30<09:50, 118.05s/it]"
     ]
    },
    {
     "name": "stdout",
     "output_type": "stream",
     "text": [
      "{'loss': 0.8629, 'learning_rate': 1.0526315789473684e-05, 'epoch': 9.7}\n"
     ]
    },
    {
     "name": "stderr",
     "output_type": "stream",
     "text": [
      " 99%|█████████▉| 288/290 [4:46:49<03:41, 110.50s/it]"
     ]
    },
    {
     "name": "stdout",
     "output_type": "stream",
     "text": [
      "{'loss': 0.9334, 'learning_rate': 4.210526315789474e-06, 'epoch': 9.8}\n"
     ]
    },
    {
     "name": "stderr",
     "output_type": "stream",
     "text": [
      "100%|██████████| 290/290 [4:50:22<00:00, 108.58s/it]\n",
      "\n",
      "Training completed. Do not forget to share your model on huggingface.co/models =)\n",
      "\n",
      "\n",
      "Loading best model from ./models/sft_clean_only_2\\checkpoint-260 (score: 0.9652692675590515).\n",
      "There were missing keys in the checkpoint model loaded: ['encoder.embed_tokens.weight', 'decoder.embed_tokens.weight'].\n",
      "100%|██████████| 290/290 [4:50:23<00:00, 60.08s/it] \n",
      "Configuration saved in ./models/sft_clean_only_2\\config.json\n",
      "Configuration saved in ./models/sft_clean_only_2\\generation_config.json\n"
     ]
    },
    {
     "name": "stdout",
     "output_type": "stream",
     "text": [
      "{'train_runtime': 17426.1691, 'train_samples_per_second': 0.813, 'train_steps_per_second': 0.017, 'train_loss': 0.5068400835168773, 'epoch': 9.87}\n"
     ]
    },
    {
     "name": "stderr",
     "output_type": "stream",
     "text": [
      "Model weights saved in ./models/sft_clean_only_2\\pytorch_model.bin\n",
      "tokenizer config file saved in ./models/sft_clean_only_2\\tokenizer_config.json\n",
      "Special tokens file saved in ./models/sft_clean_only_2\\special_tokens_map.json\n"
     ]
    }
   ],
   "source": [
    "task = clearml.Task.init(project_name='cv-generation', task_name='clean-only-sft-2')\n",
    "training_conf_args = {\n",
    "    \"config_file\": \"t5_training_config.json\",\n",
    "    \"checkpoint\": \"./models/sft_clean_only/checkpoint-140\",\n",
    "    \"train_file\": f\"{DATA_DIR}/train.json\",\n",
    "    \"val_file\": f\"{DATA_DIR}/eval.json\",\n",
    "    \"output_dir\": \"./models/sft_clean_only_2\",\n",
    "    \"train_sample_rate\": 3,\n",
    "    \"val_sample_rate\": 3,\n",
    "    \"seed\": 42,\n",
    "    \"source_field\": \"source\",\n",
    "    \"target_field\": \"target\"\n",
    "}\n",
    "\n",
    "train(**training_conf_args)\n",
    "task.close()"
   ]
  }
 ],
 "metadata": {
  "kernelspec": {
   "display_name": "Python 3",
   "language": "python",
   "name": "python3"
  },
  "language_info": {
   "codemirror_mode": {
    "name": "ipython",
    "version": 3
   },
   "file_extension": ".py",
   "mimetype": "text/x-python",
   "name": "python",
   "nbconvert_exporter": "python",
   "pygments_lexer": "ipython3",
   "version": "3.11.6"
  },
  "toc": {
   "base_numbering": 1,
   "nav_menu": {},
   "number_sections": false,
   "sideBar": true,
   "skip_h1_title": false,
   "title_cell": "Table of Contents",
   "title_sidebar": "Contents",
   "toc_cell": false,
   "toc_position": {
    "height": "calc(100% - 180px)",
    "left": "10px",
    "top": "150px",
    "width": "248.391px"
   },
   "toc_section_display": true,
   "toc_window_display": true
  }
 },
 "nbformat": 4,
 "nbformat_minor": 5
}
