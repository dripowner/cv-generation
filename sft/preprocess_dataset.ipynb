{
 "cells": [
  {
   "cell_type": "code",
   "execution_count": 96,
   "metadata": {},
   "outputs": [],
   "source": [
    "import pandas as pd"
   ]
  },
  {
   "cell_type": "code",
   "execution_count": 97,
   "metadata": {},
   "outputs": [],
   "source": [
    "df = pd.read_csv(\"./data/data.csv\")"
   ]
  },
  {
   "cell_type": "code",
   "execution_count": 101,
   "metadata": {},
   "outputs": [
    {
     "data": {
      "text/plain": [
       "Index(['resume_id', 'contact_email', 'is_male', 'birth_date', 'salary_from',\n",
       "       'name.1', 'is_married', 'driving_license', 'comment',\n",
       "       'organization_name', 'working_date_from', 'working_date_to', 'position',\n",
       "       'comment_len', 'age', 'experience', 'seniority', 'skills',\n",
       "       'last_3_job_watch', 'wanted_position', 'full_exp_text', 'about'],\n",
       "      dtype='object')"
      ]
     },
     "execution_count": 101,
     "metadata": {},
     "output_type": "execute_result"
    }
   ],
   "source": [
    "df.columns"
   ]
  },
  {
   "cell_type": "code",
   "execution_count": null,
   "metadata": {},
   "outputs": [],
   "source": [
    "df.head()"
   ]
  },
  {
   "cell_type": "code",
   "execution_count": null,
   "metadata": {},
   "outputs": [],
   "source": [
    "df[\"comment\"].replace(r\"\\n\", \" \", regex=True, inplace=True)\n",
    "df.head()"
   ]
  },
  {
   "cell_type": "code",
   "execution_count": null,
   "metadata": {},
   "outputs": [],
   "source": [
    "df.fillna(\"\", inplace=True)\n",
    "df.head()"
   ]
  },
  {
   "cell_type": "code",
   "execution_count": 119,
   "metadata": {},
   "outputs": [
    {
     "data": {
      "text/plain": [
       "array([ True, False])"
      ]
     },
     "execution_count": 119,
     "metadata": {},
     "output_type": "execute_result"
    }
   ],
   "source": [
    "df[\"is_male\"].unique()"
   ]
  },
  {
   "cell_type": "code",
   "execution_count": null,
   "metadata": {},
   "outputs": [],
   "source": [
    "df[\"is_male\"].replace({True: \"Мужчина\", False: \"Женщина\"}, inplace=True)\n",
    "df.head()"
   ]
  },
  {
   "cell_type": "code",
   "execution_count": 121,
   "metadata": {},
   "outputs": [
    {
     "data": {
      "text/plain": [
       "Index(['resume_id', 'contact_email', 'is_male', 'birth_date', 'salary_from',\n",
       "       'name.1', 'is_married', 'driving_license', 'comment',\n",
       "       'organization_name', 'working_date_from', 'working_date_to', 'position',\n",
       "       'comment_len', 'age', 'experience', 'seniority', 'skills',\n",
       "       'last_3_job_watch', 'wanted_position', 'full_exp_text', 'about'],\n",
       "      dtype='object')"
      ]
     },
     "execution_count": 121,
     "metadata": {},
     "output_type": "execute_result"
    }
   ],
   "source": [
    "df.columns"
   ]
  },
  {
   "cell_type": "code",
   "execution_count": 150,
   "metadata": {},
   "outputs": [],
   "source": [
    "source, target = [], []\n",
    "last_tmp_text = \"\"\n",
    "for res_id in df[\"resume_id\"].unique():\n",
    "\n",
    "    # source & target\n",
    "    source_text = \"\"\n",
    "    target_text = \"\"\n",
    "\n",
    "    # work expirience features\n",
    "    work_exp = \" Опыт работы:\"\n",
    "\n",
    "    org_name = \"\"\n",
    "    date_s = \"\"\n",
    "    date_f = \"\"\n",
    "    pos = \"\"\n",
    "\n",
    "    # general features\n",
    "    gen_feat = \"\"\n",
    "\n",
    "    sex = \"\"\n",
    "    salary = \"\"\n",
    "    bd = \"\"\n",
    "    city = \"\"\n",
    "    driving_license = \"\"\n",
    "    skills = \"\"\n",
    "    \n",
    "    last_view_vacs = \"\"\n",
    "    experience = \"\"\n",
    "    wanted_pos = \"\"\n",
    "    \n",
    "    # get actual rows and sort\n",
    "    rows = df[df[\"resume_id\"] == res_id]\n",
    "    rows = rows.sort_values(\"working_date_from\")\n",
    "\n",
    "    # work exp counter\n",
    "    rows_count = 1\n",
    "\n",
    "    for index, row in rows.iterrows():\n",
    "\n",
    "        # work exp temp text\n",
    "        tmp_text = \"\"\n",
    "        \n",
    "        # get general features\n",
    "        if not all([sex, salary, bd, city, driving_license, skills]):\n",
    "            sex = row[\"is_male\"]\n",
    "            salary = row[\"salary_from\"]\n",
    "            bd = row[\"birth_date\"]\n",
    "            city = row[\"name.1\"]\n",
    "            if driving_license == \"\":\n",
    "                driving_license = \"отсутствует\"\n",
    "            else:\n",
    "                driving_license = row[\"driving_license\"]\n",
    "            \n",
    "            if skills == \"\":\n",
    "                skills = \"не указано\"\n",
    "            else:\n",
    "                skills = row[\"skills\"]\n",
    "        \n",
    "        # get target text\n",
    "        if not target_text:\n",
    "            target_text = row[\"about\"]\n",
    "        \n",
    "        if not wanted_pos: wanted_pos = row[\"wanted_position\"]\n",
    "        if not experience: experience = row[\"experience\"]\n",
    "        if not last_view_vacs: last_view_vacs = row[\"last_3_job_watch\"]\n",
    "        \n",
    "        # get one place work expirience\n",
    "        org_name = row[\"organization_name\"]\n",
    "        date_s = row[\"working_date_from\"]\n",
    "        date_f = row[\"working_date_to\"]\n",
    "        if not date_f:\n",
    "            date_f = \"по настоящее время\"\n",
    "        pos = row[\"position\"]\n",
    "\n",
    "        # create one place work exp text\n",
    "        if pos == \"без опыта\":\n",
    "            tmp_text = \"Без опыта работы\"\n",
    "        else:\n",
    "            tmp_text = \" \" + str(rows_count) + \".\" + \" Место работы: \" + str(org_name) + \". Дата начала работы: \" + str(date_s) + \\\n",
    "                \". Дата окончания работы: \" + str(date_f) + \". Должность: \" + str(pos) + \".\"\n",
    "        \n",
    "        if last_tmp_text != tmp_text[3:]:\n",
    "            work_exp += tmp_text\n",
    "\n",
    "        last_tmp_text = tmp_text[3:]\n",
    "\n",
    "        rows_count += 1\n",
    "\n",
    "    gen_feat_text = \"Пол: \" + str(sex) + \\\n",
    "        \". Желаемая зарплата: \" + str(salary) + \" рублей\" + \\\n",
    "        \". Желаемая должность: \" + str(wanted_pos) + \\\n",
    "        \". Дата рождения: \" + str(bd) + \\\n",
    "        \". Город проживания: \" + str(city) + \\\n",
    "        \". Водительское удостоверение: \" + str(driving_license) + \\\n",
    "        \". Умения/навыки: \" + str(skills) + \".\"\n",
    "        \n",
    "    if experience:\n",
    "        gen_feat_text += \" Рабой стаж: \" + str(experience) + \" лет.\" \n",
    "    \n",
    "    source_text = gen_feat_text + work_exp\n",
    "    \n",
    "    source.append(source_text)\n",
    "    target.append(target_text)\n",
    "\n"
   ]
  },
  {
   "cell_type": "code",
   "execution_count": 152,
   "metadata": {},
   "outputs": [],
   "source": [
    "fin_df = pd.DataFrame(data={\"source\": source, \"target\": target})"
   ]
  },
  {
   "cell_type": "code",
   "execution_count": 160,
   "metadata": {},
   "outputs": [],
   "source": [
    "fin_df.to_csv(\"./data/sft_dataset.csv\")"
   ]
  }
 ],
 "metadata": {
  "kernelspec": {
   "display_name": "venv",
   "language": "python",
   "name": "python3"
  },
  "language_info": {
   "codemirror_mode": {
    "name": "ipython",
    "version": 3
   },
   "file_extension": ".py",
   "mimetype": "text/x-python",
   "name": "python",
   "nbconvert_exporter": "python",
   "pygments_lexer": "ipython3",
   "version": "3.11.6"
  }
 },
 "nbformat": 4,
 "nbformat_minor": 2
}
